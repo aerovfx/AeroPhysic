{
 "cells": [
  {
   "cell_type": "markdown",
   "metadata": {
    "vscode": {
     "languageId": "plaintext"
    }
   },
   "source": [
    "**Làm Quen Với Vật Lý**\n",
    "=====================\n",
    "\n",
    "### 1. Đối Tượng Nghiên Cứu Của Vật Lý Và Mục Tiêu Của Vật Lý\n",
    "\n",
    "Vật lý là một lĩnh vực khoa học nghiên cứu về các hiện tượng tự nhiên và con người đã tạo ra. Đối tượng nghiên cứu của vật lý bao gồm:\n",
    "\n",
    "* Các dạng vận động của vật chất (chất, trường).\n",
    "* Các quá trình tự nhiên như sự chuyển đổi giữa các dạng năng lượng,...\n",
    "* Các quy luật chi phối sự vận động và tương tác giữa các dạng vật chất đó.\n",
    "\n",
    "\n",
    "Học Vật lí giúp các em hình thành, phát triển năng lực vật lí với các biểu hiện sau:\n",
    "* Có được những kiến thức, kĩ năng cơ bản về vật lí.\n",
    "* Vận dụng được kiến thức, kĩ năng đã học để khám phát, giải quyết các vấn đề có liên quan trong học tập cũng như trong đời sống.\n",
    "* Nhận biết được năng lực, sở trường của bản thân, định hướng nghề nghiệp.\n",
    "\n",
    "Mục tiêu của vật lý là nhằm hiểu rõ hơn về các quy luật và nguyên tắc điều khiển các hiện tượng tự nhiên và con người đã tạo ra. Vật lý cũng giúp chúng ta ứng dụng kiến thức để giải quyết các vấn đề thực tế trong cuộc sống.\n",
    "\n",
    "### 2. Quá Trình Phát Triển Của Vật Lý\n",
    "\n",
    "1. Thời cổ đại (~350 TCN)\n",
    "Aristotle (Arixtôt, 384–322 TCN): triết gia Hy Lạp, ông đưa ra nhiều quan điểm về chuyển động, thiên văn, coi Trái Đất là trung tâm vũ trụ.\n",
    "Đây là giai đoạn vật lí còn mang tính triết học tự nhiên, chưa dựa trên thực nghiệm, nhưng đặt nền móng cho tư duy khoa học.\n",
    "2. Thời kỳ khoa học cận đại (thế kỉ 16 – 17)\n",
    "Copernicus (Côpécníc, 1473–1543): đề xuất thuyết nhật tâm (Mặt Trời ở trung tâm).\n",
    "Galileo Galilei (Galilê, 1564–1642): thực hiện nhiều thí nghiệm về rơi tự do, quán tính, đặt nền móng cho cơ học thực nghiệm.\n",
    "Isaac Newton (Niu-tơn, 1643–1727): công bố Principia (1687), thiết lập 3 định luật cơ học và định luật vạn vật hấp dẫn.\n",
    "➡ Đây được coi là cuộc cách mạng khoa học, hình thành cơ học cổ điển.\n",
    "3. Thế kỉ 18 – 19\n",
    "Vật lí phát triển mạnh mẽ ở nhiều lĩnh vực:\n",
    "Nhiệt học và nhiệt động lực học (Carnot, Joule, Clausius, Kelvin,…).\n",
    "Điện học và Từ học (Coulomb, Ampere, Faraday, Maxwell).\n",
    "James Clerk Maxwell (1831–1879): thống nhất điện và từ trong lý thuyết điện từ trường.\n",
    "➡ Vật lí trở thành một hệ thống khoa học rộng lớn, liên kết với công nghiệp và cách mạng máy hơi nước, điện lực.\n",
    "4. Thế kỉ 20 – Bước ngoặt hiện đại\n",
    "Albert Einstein (1879–1955): thuyết tương đối hẹp (1905), tương đối rộng (1915) → thay đổi căn bản quan niệm về không gian, thời gian và hấp dẫn.\n",
    "Cơ học lượng tử (Planck, Bohr, Heisenberg, Schrödinger, Dirac,…) → mô tả thế giới vi mô (nguyên tử, hạt).\n",
    "Nhiều phát minh ứng dụng: transistor, năng lượng hạt nhân, laser,…\n",
    "5. Năm 1958\n",
    "Năm 1958 được coi là mốc đánh dấu sự ra đời của vật lí hiện đại ứng dụng, đặc biệt là vật lí hạt nhân và điện tử học.\n",
    "Thời kì này, vật lí bắt đầu gắn liền với công nghệ cao (vũ trụ, bán dẫn, máy tính, năng lượng nguyên tử).\n",
    "Tóm tắt ngắn gọn cho học sinh\n",
    "350 TCN: Arixtốt, triết học tự nhiên.\n",
    "Thế kỉ 16–17: Copernicus, Galilei, Newton → cơ học cổ điển.\n",
    "Thế kỉ 18–19: phát triển nhiệt động lực học, điện – từ, Maxwell.\n",
    "Đầu thế kỉ 20: thuyết tương đối, cơ học lượng tử, ứng dụng công nghệ.\n",
    "1958: khởi đầu kỉ nguyên vật lí hiện đại (nguyên tử, bán dẫn, vũ trụ).\n",
    "![Timeline](assets/ae48a340-be50-4ade-8672-f8e4b7fee6f1.png)\n",
    "\n",
    "\n",
    "### 3. Vai Trò Của Vật Lý Đối Với Khoa Học, Kĩ Thuật Và Công Nghệ\n",
    "\n",
    "Vật lý có vai trò quan trọng đối với khoa học, kĩ thuật và công nghệ. Vật lý giúp chúng ta hiểu rõ hơn về các quy luật và nguyên tắc điều khiển các hiện tượng tự nhiên và con người đã tạo ra.\n",
    "\n",
    "Vai trò của vật lý bao gồm:\n",
    "\n",
    "* Giúp chúng ta hiểu rõ hơn về các quy luật và nguyên tắc điều khiển các hiện tượng tự nhiên.\n",
    "* Ứng dụng kiến thức để giải quyết các vấn đề thực tế trong cuộc sống.\n",
    "* Phát triển các kỹ thuật đo lường mới và các phương pháp nghiên cứu tiên tiến.\n",
    "\n",
    "### 4. Phương Pháp Nghiên Cứu Vật Lý\n",
    "\n",
    "Vật lý sử dụng các phương pháp nghiên cứu khoa học để hiểu rõ hơn về các hiện tượng tự nhiên và con người đã tạo ra. Các phương pháp nghiên cứu vật lý bao gồm:\n",
    "\n",
    "* Phương pháp đo lường: Sử dụng các kỹ thuật đo lường để thu thập dữ liệu về các hiện tượng tự nhiên.\n",
    "* Phương pháp phân tích: Sử dụng các phương pháp toán học và thống kê để phân tích dữ liệu và rút ra kết luận.\n",
    "* Phương pháp mô hình hóa: Sử dụng các phương pháp toán học và thống kê để xây dựng mô hình dự đoán và mô tả các hiện tượng tự nhiên.\n",
    "\n",
    "Mã Python dưới đây là một ví dụ về cách sử dụng các phương pháp nghiên cứu vật lý để hiểu rõ hơn về các quy luật và nguyên tắc điều khiển các hiện tượng tự nhiên:\n",
    "\n",
    "\n",
    "\n",
    "Kết quả của mã trên sẽ là một mảng dữ liệu cho khối lượng riêng tại các nhiệt độ và áp suất khác nhau."
   ]
  },
  {
   "cell_type": "code",
   "execution_count": 2,
   "metadata": {},
   "outputs": [
    {
     "name": "stdout",
     "output_type": "stream",
     "text": [
      "[0.         0.00051609 0.00102839 0.00153694 0.00204178 0.00254296\n",
      " 0.0030405  0.00353446 0.00402487 0.00451176 0.00499518 0.00547517\n",
      " 0.00595175 0.00642497 0.00689485 0.00736145 0.00782478 0.00828489\n",
      " 0.0087418  0.00919556 0.00964619 0.01009373 0.0105382  0.01097964\n",
      " 0.01141809 0.01185356 0.01228609 0.01271571 0.01314245 0.01356634\n",
      " 0.01398741 0.01440568 0.01482119 0.01523395 0.015644   0.01605136\n",
      " 0.01645607 0.01685814 0.0172576  0.01765448 0.0180488  0.01844058\n",
      " 0.01882986 0.01921665 0.01960098 0.01998287 0.02036235 0.02073943\n",
      " 0.02111415 0.02148652 0.02185656 0.0222243  0.02258975 0.02295295\n",
      " 0.02331391 0.02367264 0.02402918 0.02438354 0.02473574 0.0250858\n",
      " 0.02543374 0.02577958 0.02612333 0.02646503 0.02680468 0.0271423\n",
      " 0.02747792 0.02781155 0.0281432  0.0284729  0.02880066 0.0291265\n",
      " 0.02945043 0.02977248 0.03009266 0.03041098 0.03072747 0.03104213\n",
      " 0.03135498 0.03166605 0.03197533 0.03228286 0.03258864 0.03289269\n",
      " 0.03319502 0.03349565 0.03379459 0.03409186 0.03438747 0.03468144\n",
      " 0.03497377 0.03526448 0.03555359 0.03584111 0.03612705 0.03641142\n",
      " 0.03669424 0.03697552 0.03725527 0.03753351]\n"
     ]
    }
   ],
   "source": [
    "\n",
    "import numpy as np\n",
    "\n",
    "# Tạo mảng dữ liệu cho nhiệt độ\n",
    "T = np.linspace(0, 100, 100)\n",
    "\n",
    "# Tạo mảng dữ liệu cho áp suất\n",
    "P = np.linspace(0, 10, 100)\n",
    "\n",
    "# Tính toán khối lượng riêng\n",
    "rho = (1.4 * P) / (273 + T)\n",
    "\n",
    "# In ra kết quả\n",
    "print(rho)\n"
   ]
  }
 ],
 "metadata": {
  "kernelspec": {
   "display_name": "Python 3",
   "language": "python",
   "name": "python3"
  },
  "language_info": {
   "codemirror_mode": {
    "name": "ipython",
    "version": 3
   },
   "file_extension": ".py",
   "mimetype": "text/x-python",
   "name": "python",
   "nbconvert_exporter": "python",
   "pygments_lexer": "ipython3",
   "version": "3.11.11"
  }
 },
 "nbformat": 4,
 "nbformat_minor": 2
}
